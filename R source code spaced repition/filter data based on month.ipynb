{
 "cells": [
  {
   "cell_type": "code",
   "execution_count": 1,
   "id": "51959e3c",
   "metadata": {},
   "outputs": [
    {
     "name": "stderr",
     "output_type": "stream",
     "text": [
      "-- \u001b[1mAttaching packages\u001b[22m ----------------------------------------------------------- tidyverse 1.3.1 --\n",
      "\n",
      "\u001b[32mv\u001b[39m \u001b[34mggplot2\u001b[39m 3.3.4     \u001b[32mv\u001b[39m \u001b[34mpurrr  \u001b[39m 0.3.4\n",
      "\u001b[32mv\u001b[39m \u001b[34mtibble \u001b[39m 3.1.1     \u001b[32mv\u001b[39m \u001b[34mdplyr  \u001b[39m 1.0.6\n",
      "\u001b[32mv\u001b[39m \u001b[34mtidyr  \u001b[39m 1.1.3     \u001b[32mv\u001b[39m \u001b[34mstringr\u001b[39m 1.4.0\n",
      "\u001b[32mv\u001b[39m \u001b[34mreadr  \u001b[39m 1.4.0     \u001b[32mv\u001b[39m \u001b[34mforcats\u001b[39m 0.5.1\n",
      "\n",
      "-- \u001b[1mConflicts\u001b[22m -------------------------------------------------------------- tidyverse_conflicts() --\n",
      "\u001b[31mx\u001b[39m \u001b[34mdplyr\u001b[39m::\u001b[32mfilter()\u001b[39m masks \u001b[34mstats\u001b[39m::filter()\n",
      "\u001b[31mx\u001b[39m \u001b[34mdplyr\u001b[39m::\u001b[32mlag()\u001b[39m    masks \u001b[34mstats\u001b[39m::lag()\n",
      "\n"
     ]
    }
   ],
   "source": [
    "library(tidyverse)"
   ]
  },
  {
   "cell_type": "code",
   "execution_count": 2,
   "id": "f831403b",
   "metadata": {},
   "outputs": [
    {
     "name": "stderr",
     "output_type": "stream",
     "text": [
      "\n",
      "Attaching package: 'lubridate'\n",
      "\n",
      "\n",
      "The following objects are masked from 'package:base':\n",
      "\n",
      "    date, intersect, setdiff, union\n",
      "\n",
      "\n"
     ]
    }
   ],
   "source": [
    "library(lubridate)"
   ]
  },
  {
   "cell_type": "code",
   "execution_count": 3,
   "id": "ab51562b",
   "metadata": {},
   "outputs": [
    {
     "name": "stderr",
     "output_type": "stream",
     "text": [
      "Warning message:\n",
      "\"Missing column names filled in: 'X1' [1]\"\n",
      "\n",
      "\u001b[36m--\u001b[39m \u001b[1m\u001b[1mColumn specification\u001b[1m\u001b[22m \u001b[36m----------------------------------------------------------------------------\u001b[39m\n",
      "cols(\n",
      "  X1 = \u001b[34mcol_date(format = \"\")\u001b[39m,\n",
      "  Day = \u001b[31mcol_character()\u001b[39m,\n",
      "  Decks = \u001b[31mcol_character()\u001b[39m,\n",
      "  `Free Recall` = \u001b[33mcol_logical()\u001b[39m\n",
      ")\n",
      "\n",
      "\n"
     ]
    }
   ],
   "source": [
    "data = read_csv(\"G:\\\\#Stage 1 studies 1\\\\1 concentration area\\\\17\\\\cluster 2 developing schema fluency\\\\code spaced rep jupyter notebooks\\\\leitner August to October.csv\")"
   ]
  },
  {
   "cell_type": "code",
   "execution_count": 12,
   "id": "d5f02650",
   "metadata": {},
   "outputs": [
    {
     "data": {
      "text/html": [
       "<table class=\"dataframe\">\n",
       "<caption>A spec_tbl_df: 5 × 4</caption>\n",
       "<thead>\n",
       "\t<tr><th scope=col>X1</th><th scope=col>Day</th><th scope=col>Decks</th><th scope=col>Free Recall</th></tr>\n",
       "\t<tr><th scope=col>&lt;date&gt;</th><th scope=col>&lt;chr&gt;</th><th scope=col>&lt;chr&gt;</th><th scope=col>&lt;lgl&gt;</th></tr>\n",
       "</thead>\n",
       "<tbody>\n",
       "\t<tr><td>2021-08-11</td><td>Day 1</td><td>(2, 1)</td><td> TRUE</td></tr>\n",
       "\t<tr><td>2021-08-12</td><td>Day 2</td><td>(3, 1)</td><td>FALSE</td></tr>\n",
       "\t<tr><td>2021-08-13</td><td>Day 3</td><td>(2, 1)</td><td> TRUE</td></tr>\n",
       "\t<tr><td>2021-08-14</td><td>Day 4</td><td>(4, 1)</td><td>FALSE</td></tr>\n",
       "\t<tr><td>2021-08-15</td><td>Day 5</td><td>(2, 1)</td><td> TRUE</td></tr>\n",
       "</tbody>\n",
       "</table>\n"
      ],
      "text/latex": [
       "A spec\\_tbl\\_df: 5 × 4\n",
       "\\begin{tabular}{llll}\n",
       " X1 & Day & Decks & Free Recall\\\\\n",
       " <date> & <chr> & <chr> & <lgl>\\\\\n",
       "\\hline\n",
       "\t 2021-08-11 & Day 1 & (2, 1) &  TRUE\\\\\n",
       "\t 2021-08-12 & Day 2 & (3, 1) & FALSE\\\\\n",
       "\t 2021-08-13 & Day 3 & (2, 1) &  TRUE\\\\\n",
       "\t 2021-08-14 & Day 4 & (4, 1) & FALSE\\\\\n",
       "\t 2021-08-15 & Day 5 & (2, 1) &  TRUE\\\\\n",
       "\\end{tabular}\n"
      ],
      "text/markdown": [
       "\n",
       "A spec_tbl_df: 5 × 4\n",
       "\n",
       "| X1 &lt;date&gt; | Day &lt;chr&gt; | Decks &lt;chr&gt; | Free Recall &lt;lgl&gt; |\n",
       "|---|---|---|---|\n",
       "| 2021-08-11 | Day 1 | (2, 1) |  TRUE |\n",
       "| 2021-08-12 | Day 2 | (3, 1) | FALSE |\n",
       "| 2021-08-13 | Day 3 | (2, 1) |  TRUE |\n",
       "| 2021-08-14 | Day 4 | (4, 1) | FALSE |\n",
       "| 2021-08-15 | Day 5 | (2, 1) |  TRUE |\n",
       "\n"
      ],
      "text/plain": [
       "  X1         Day   Decks  Free Recall\n",
       "1 2021-08-11 Day 1 (2, 1)  TRUE      \n",
       "2 2021-08-12 Day 2 (3, 1) FALSE      \n",
       "3 2021-08-13 Day 3 (2, 1)  TRUE      \n",
       "4 2021-08-14 Day 4 (4, 1) FALSE      \n",
       "5 2021-08-15 Day 5 (2, 1)  TRUE      "
      ]
     },
     "metadata": {},
     "output_type": "display_data"
    }
   ],
   "source": [
    "data %>%\n",
    "    slice(1:5)"
   ]
  },
  {
   "cell_type": "code",
   "execution_count": 17,
   "id": "59c42899",
   "metadata": {},
   "outputs": [],
   "source": [
    "data <- data %>%\n",
    "    rename(Date = X1)"
   ]
  },
  {
   "cell_type": "code",
   "execution_count": 20,
   "id": "fa2be162",
   "metadata": {},
   "outputs": [
    {
     "data": {
      "text/html": [
       "<style>\n",
       ".list-inline {list-style: none; margin:0; padding: 0}\n",
       ".list-inline>li {display: inline-block}\n",
       ".list-inline>li:not(:last-child)::after {content: \"\\00b7\"; padding: 0 .5ex}\n",
       "</style>\n",
       "<ol class=list-inline><li>8</li><li>8</li><li>8</li><li>8</li><li>8</li><li>8</li><li>8</li><li>8</li><li>8</li><li>8</li><li>8</li><li>8</li><li>8</li><li>8</li><li>8</li><li>8</li><li>8</li><li>8</li><li>8</li><li>8</li><li>8</li><li>9</li><li>9</li><li>9</li><li>9</li><li>9</li><li>9</li><li>9</li><li>9</li><li>9</li><li>9</li><li>9</li><li>9</li><li>9</li><li>9</li><li>9</li><li>9</li><li>9</li><li>9</li><li>9</li><li>9</li><li>9</li><li>9</li><li>9</li><li>9</li><li>9</li><li>9</li><li>9</li><li>9</li><li>9</li><li>9</li><li>10</li><li>10</li><li>10</li><li>10</li><li>10</li><li>10</li><li>10</li><li>10</li><li>10</li><li>10</li><li>10</li><li>10</li><li>10</li></ol>\n"
      ],
      "text/latex": [
       "\\begin{enumerate*}\n",
       "\\item 8\n",
       "\\item 8\n",
       "\\item 8\n",
       "\\item 8\n",
       "\\item 8\n",
       "\\item 8\n",
       "\\item 8\n",
       "\\item 8\n",
       "\\item 8\n",
       "\\item 8\n",
       "\\item 8\n",
       "\\item 8\n",
       "\\item 8\n",
       "\\item 8\n",
       "\\item 8\n",
       "\\item 8\n",
       "\\item 8\n",
       "\\item 8\n",
       "\\item 8\n",
       "\\item 8\n",
       "\\item 8\n",
       "\\item 9\n",
       "\\item 9\n",
       "\\item 9\n",
       "\\item 9\n",
       "\\item 9\n",
       "\\item 9\n",
       "\\item 9\n",
       "\\item 9\n",
       "\\item 9\n",
       "\\item 9\n",
       "\\item 9\n",
       "\\item 9\n",
       "\\item 9\n",
       "\\item 9\n",
       "\\item 9\n",
       "\\item 9\n",
       "\\item 9\n",
       "\\item 9\n",
       "\\item 9\n",
       "\\item 9\n",
       "\\item 9\n",
       "\\item 9\n",
       "\\item 9\n",
       "\\item 9\n",
       "\\item 9\n",
       "\\item 9\n",
       "\\item 9\n",
       "\\item 9\n",
       "\\item 9\n",
       "\\item 9\n",
       "\\item 10\n",
       "\\item 10\n",
       "\\item 10\n",
       "\\item 10\n",
       "\\item 10\n",
       "\\item 10\n",
       "\\item 10\n",
       "\\item 10\n",
       "\\item 10\n",
       "\\item 10\n",
       "\\item 10\n",
       "\\item 10\n",
       "\\item 10\n",
       "\\end{enumerate*}\n"
      ],
      "text/markdown": [
       "1. 8\n",
       "2. 8\n",
       "3. 8\n",
       "4. 8\n",
       "5. 8\n",
       "6. 8\n",
       "7. 8\n",
       "8. 8\n",
       "9. 8\n",
       "10. 8\n",
       "11. 8\n",
       "12. 8\n",
       "13. 8\n",
       "14. 8\n",
       "15. 8\n",
       "16. 8\n",
       "17. 8\n",
       "18. 8\n",
       "19. 8\n",
       "20. 8\n",
       "21. 8\n",
       "22. 9\n",
       "23. 9\n",
       "24. 9\n",
       "25. 9\n",
       "26. 9\n",
       "27. 9\n",
       "28. 9\n",
       "29. 9\n",
       "30. 9\n",
       "31. 9\n",
       "32. 9\n",
       "33. 9\n",
       "34. 9\n",
       "35. 9\n",
       "36. 9\n",
       "37. 9\n",
       "38. 9\n",
       "39. 9\n",
       "40. 9\n",
       "41. 9\n",
       "42. 9\n",
       "43. 9\n",
       "44. 9\n",
       "45. 9\n",
       "46. 9\n",
       "47. 9\n",
       "48. 9\n",
       "49. 9\n",
       "50. 9\n",
       "51. 9\n",
       "52. 10\n",
       "53. 10\n",
       "54. 10\n",
       "55. 10\n",
       "56. 10\n",
       "57. 10\n",
       "58. 10\n",
       "59. 10\n",
       "60. 10\n",
       "61. 10\n",
       "62. 10\n",
       "63. 10\n",
       "64. 10\n",
       "\n",
       "\n"
      ],
      "text/plain": [
       " [1]  8  8  8  8  8  8  8  8  8  8  8  8  8  8  8  8  8  8  8  8  8  9  9  9  9\n",
       "[26]  9  9  9  9  9  9  9  9  9  9  9  9  9  9  9  9  9  9  9  9  9  9  9  9  9\n",
       "[51]  9 10 10 10 10 10 10 10 10 10 10 10 10 10"
      ]
     },
     "metadata": {},
     "output_type": "display_data"
    }
   ],
   "source": [
    "month(data$Date)"
   ]
  },
  {
   "cell_type": "code",
   "execution_count": 21,
   "id": "9037232e",
   "metadata": {},
   "outputs": [
    {
     "data": {
      "text/html": [
       "<table class=\"dataframe\">\n",
       "<caption>A spec_tbl_df: 13 × 4</caption>\n",
       "<thead>\n",
       "\t<tr><th scope=col>Date</th><th scope=col>Day</th><th scope=col>Decks</th><th scope=col>Free Recall</th></tr>\n",
       "\t<tr><th scope=col>&lt;date&gt;</th><th scope=col>&lt;chr&gt;</th><th scope=col>&lt;chr&gt;</th><th scope=col>&lt;lgl&gt;</th></tr>\n",
       "</thead>\n",
       "<tbody>\n",
       "\t<tr><td>2021-10-01</td><td>Day 52</td><td>(4, 1)   </td><td> TRUE</td></tr>\n",
       "\t<tr><td>2021-10-02</td><td>Day 53</td><td>(2, 1)   </td><td>FALSE</td></tr>\n",
       "\t<tr><td>2021-10-03</td><td>Day 54</td><td>(3, 1)   </td><td> TRUE</td></tr>\n",
       "\t<tr><td>2021-10-04</td><td>Day 55</td><td>(2, 1)   </td><td>FALSE</td></tr>\n",
       "\t<tr><td>2021-10-05</td><td>Day 56</td><td>(7, 1)   </td><td> TRUE</td></tr>\n",
       "\t<tr><td>2021-10-06</td><td>Day 57</td><td>(2, 1)   </td><td>FALSE</td></tr>\n",
       "\t<tr><td>2021-10-07</td><td>Day 58</td><td>(3, 1)   </td><td> TRUE</td></tr>\n",
       "\t<tr><td>2021-10-08</td><td>Day 59</td><td>(6, 2, 1)</td><td> TRUE</td></tr>\n",
       "\t<tr><td>2021-10-09</td><td>Day 60</td><td>(5, 1)   </td><td>FALSE</td></tr>\n",
       "\t<tr><td>2021-10-10</td><td>Day 61</td><td>(4, 2, 1)</td><td> TRUE</td></tr>\n",
       "\t<tr><td>2021-10-11</td><td>Day 62</td><td>(3, 1)   </td><td>FALSE</td></tr>\n",
       "\t<tr><td>2021-10-12</td><td>Day 63</td><td>(2, 1)   </td><td> TRUE</td></tr>\n",
       "\t<tr><td>2021-10-13</td><td>Day 64</td><td>1        </td><td>FALSE</td></tr>\n",
       "</tbody>\n",
       "</table>\n"
      ],
      "text/latex": [
       "A spec\\_tbl\\_df: 13 × 4\n",
       "\\begin{tabular}{llll}\n",
       " Date & Day & Decks & Free Recall\\\\\n",
       " <date> & <chr> & <chr> & <lgl>\\\\\n",
       "\\hline\n",
       "\t 2021-10-01 & Day 52 & (4, 1)    &  TRUE\\\\\n",
       "\t 2021-10-02 & Day 53 & (2, 1)    & FALSE\\\\\n",
       "\t 2021-10-03 & Day 54 & (3, 1)    &  TRUE\\\\\n",
       "\t 2021-10-04 & Day 55 & (2, 1)    & FALSE\\\\\n",
       "\t 2021-10-05 & Day 56 & (7, 1)    &  TRUE\\\\\n",
       "\t 2021-10-06 & Day 57 & (2, 1)    & FALSE\\\\\n",
       "\t 2021-10-07 & Day 58 & (3, 1)    &  TRUE\\\\\n",
       "\t 2021-10-08 & Day 59 & (6, 2, 1) &  TRUE\\\\\n",
       "\t 2021-10-09 & Day 60 & (5, 1)    & FALSE\\\\\n",
       "\t 2021-10-10 & Day 61 & (4, 2, 1) &  TRUE\\\\\n",
       "\t 2021-10-11 & Day 62 & (3, 1)    & FALSE\\\\\n",
       "\t 2021-10-12 & Day 63 & (2, 1)    &  TRUE\\\\\n",
       "\t 2021-10-13 & Day 64 & 1         & FALSE\\\\\n",
       "\\end{tabular}\n"
      ],
      "text/markdown": [
       "\n",
       "A spec_tbl_df: 13 × 4\n",
       "\n",
       "| Date &lt;date&gt; | Day &lt;chr&gt; | Decks &lt;chr&gt; | Free Recall &lt;lgl&gt; |\n",
       "|---|---|---|---|\n",
       "| 2021-10-01 | Day 52 | (4, 1)    |  TRUE |\n",
       "| 2021-10-02 | Day 53 | (2, 1)    | FALSE |\n",
       "| 2021-10-03 | Day 54 | (3, 1)    |  TRUE |\n",
       "| 2021-10-04 | Day 55 | (2, 1)    | FALSE |\n",
       "| 2021-10-05 | Day 56 | (7, 1)    |  TRUE |\n",
       "| 2021-10-06 | Day 57 | (2, 1)    | FALSE |\n",
       "| 2021-10-07 | Day 58 | (3, 1)    |  TRUE |\n",
       "| 2021-10-08 | Day 59 | (6, 2, 1) |  TRUE |\n",
       "| 2021-10-09 | Day 60 | (5, 1)    | FALSE |\n",
       "| 2021-10-10 | Day 61 | (4, 2, 1) |  TRUE |\n",
       "| 2021-10-11 | Day 62 | (3, 1)    | FALSE |\n",
       "| 2021-10-12 | Day 63 | (2, 1)    |  TRUE |\n",
       "| 2021-10-13 | Day 64 | 1         | FALSE |\n",
       "\n"
      ],
      "text/plain": [
       "   Date       Day    Decks     Free Recall\n",
       "1  2021-10-01 Day 52 (4, 1)     TRUE      \n",
       "2  2021-10-02 Day 53 (2, 1)    FALSE      \n",
       "3  2021-10-03 Day 54 (3, 1)     TRUE      \n",
       "4  2021-10-04 Day 55 (2, 1)    FALSE      \n",
       "5  2021-10-05 Day 56 (7, 1)     TRUE      \n",
       "6  2021-10-06 Day 57 (2, 1)    FALSE      \n",
       "7  2021-10-07 Day 58 (3, 1)     TRUE      \n",
       "8  2021-10-08 Day 59 (6, 2, 1)  TRUE      \n",
       "9  2021-10-09 Day 60 (5, 1)    FALSE      \n",
       "10 2021-10-10 Day 61 (4, 2, 1)  TRUE      \n",
       "11 2021-10-11 Day 62 (3, 1)    FALSE      \n",
       "12 2021-10-12 Day 63 (2, 1)     TRUE      \n",
       "13 2021-10-13 Day 64 1         FALSE      "
      ]
     },
     "metadata": {},
     "output_type": "display_data"
    }
   ],
   "source": [
    "data %>%\n",
    "    filter(month(Date) == 10)"
   ]
  },
  {
   "cell_type": "code",
   "execution_count": null,
   "id": "2db2d9b7",
   "metadata": {},
   "outputs": [],
   "source": []
  }
 ],
 "metadata": {
  "kernelspec": {
   "display_name": "R",
   "language": "R",
   "name": "ir"
  },
  "language_info": {
   "codemirror_mode": "r",
   "file_extension": ".r",
   "mimetype": "text/x-r-source",
   "name": "R",
   "pygments_lexer": "r",
   "version": "4.0.5"
  }
 },
 "nbformat": 4,
 "nbformat_minor": 5
}
