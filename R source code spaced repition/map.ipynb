{
 "cells": [
  {
   "cell_type": "markdown",
   "id": "5ffd6260",
   "metadata": {},
   "source": [
    "[Source](https://dcl-prog.stanford.edu/purrr-basics.html)\n",
    "\n",
    "[Source 2](https://www.rebeccabarter.com/blog/2019-08-19_purrr/)"
   ]
  },
  {
   "cell_type": "code",
   "execution_count": 1,
   "id": "17d8fd1c",
   "metadata": {},
   "outputs": [
    {
     "name": "stderr",
     "output_type": "stream",
     "text": [
      "-- \u001b[1mAttaching packages\u001b[22m ----------------------------------------------------------- tidyverse 1.3.1 --\n",
      "\n",
      "\u001b[32mv\u001b[39m \u001b[34mggplot2\u001b[39m 3.3.4     \u001b[32mv\u001b[39m \u001b[34mpurrr  \u001b[39m 0.3.4\n",
      "\u001b[32mv\u001b[39m \u001b[34mtibble \u001b[39m 3.1.1     \u001b[32mv\u001b[39m \u001b[34mdplyr  \u001b[39m 1.0.6\n",
      "\u001b[32mv\u001b[39m \u001b[34mtidyr  \u001b[39m 1.1.3     \u001b[32mv\u001b[39m \u001b[34mstringr\u001b[39m 1.4.0\n",
      "\u001b[32mv\u001b[39m \u001b[34mreadr  \u001b[39m 1.4.0     \u001b[32mv\u001b[39m \u001b[34mforcats\u001b[39m 0.5.1\n",
      "\n",
      "-- \u001b[1mConflicts\u001b[22m -------------------------------------------------------------- tidyverse_conflicts() --\n",
      "\u001b[31mx\u001b[39m \u001b[34mdplyr\u001b[39m::\u001b[32mfilter()\u001b[39m masks \u001b[34mstats\u001b[39m::filter()\n",
      "\u001b[31mx\u001b[39m \u001b[34mdplyr\u001b[39m::\u001b[32mlag()\u001b[39m    masks \u001b[34mstats\u001b[39m::lag()\n",
      "\n"
     ]
    }
   ],
   "source": [
    "library(tidyverse)"
   ]
  },
  {
   "cell_type": "code",
   "execution_count": 6,
   "id": "8569aa50",
   "metadata": {},
   "outputs": [
    {
     "data": {
      "text/html": [
       "<style>\n",
       ".list-inline {list-style: none; margin:0; padding: 0}\n",
       ".list-inline>li {display: inline-block}\n",
       ".list-inline>li:not(:last-child)::after {content: \"\\00b7\"; padding: 0 .5ex}\n",
       "</style>\n",
       "<ol class=list-inline><li>1</li><li>4</li><li>9</li><li>16</li></ol>\n"
      ],
      "text/latex": [
       "\\begin{enumerate*}\n",
       "\\item 1\n",
       "\\item 4\n",
       "\\item 9\n",
       "\\item 16\n",
       "\\end{enumerate*}\n"
      ],
      "text/markdown": [
       "1. 1\n",
       "2. 4\n",
       "3. 9\n",
       "4. 16\n",
       "\n",
       "\n"
      ],
      "text/plain": [
       "[1]  1  4  9 16"
      ]
     },
     "metadata": {},
     "output_type": "display_data"
    }
   ],
   "source": [
    "map_dbl(1:4, function(x) x**2)"
   ]
  },
  {
   "cell_type": "code",
   "execution_count": 5,
   "id": "63820cb2",
   "metadata": {},
   "outputs": [
    {
     "data": {
      "text/html": [
       "<style>\n",
       ".list-inline {list-style: none; margin:0; padding: 0}\n",
       ".list-inline>li {display: inline-block}\n",
       ".list-inline>li:not(:last-child)::after {content: \"\\00b7\"; padding: 0 .5ex}\n",
       "</style>\n",
       "<ol class=list-inline><li>1</li><li>2</li><li>3</li><li>4</li></ol>\n"
      ],
      "text/latex": [
       "\\begin{enumerate*}\n",
       "\\item 1\n",
       "\\item 2\n",
       "\\item 3\n",
       "\\item 4\n",
       "\\end{enumerate*}\n"
      ],
      "text/markdown": [
       "1. 1\n",
       "2. 2\n",
       "3. 3\n",
       "4. 4\n",
       "\n",
       "\n"
      ],
      "text/plain": [
       "[1] 1 2 3 4"
      ]
     },
     "metadata": {},
     "output_type": "display_data"
    }
   ],
   "source": [
    "map_dbl(1:4, function(x) x)"
   ]
  },
  {
   "cell_type": "code",
   "execution_count": 7,
   "id": "386813e3",
   "metadata": {},
   "outputs": [],
   "source": [
    "moons <- list(\n",
    "    earth = 1737.1, \n",
    "    mars = c(11.3, 6.2),\n",
    "    neptune = \n",
    "        c(60.4, 81.4, 156, 174.8, 194, 34.8, 420, 2705.2, 340, 62, 44, 42, 40, 60)\n",
    ")"
   ]
  },
  {
   "cell_type": "code",
   "execution_count": 8,
   "id": "9027fea4",
   "metadata": {},
   "outputs": [
    {
     "data": {
      "text/html": [
       "'list'"
      ],
      "text/latex": [
       "'list'"
      ],
      "text/markdown": [
       "'list'"
      ],
      "text/plain": [
       "[1] \"list\""
      ]
     },
     "metadata": {},
     "output_type": "display_data"
    }
   ],
   "source": [
    "class(moons)"
   ]
  },
  {
   "cell_type": "code",
   "execution_count": 10,
   "id": "2fa85aa8",
   "metadata": {},
   "outputs": [
    {
     "data": {
      "text/html": [
       "<dl>\n",
       "\t<dt>$earth</dt>\n",
       "\t\t<dd>1</dd>\n",
       "\t<dt>$mars</dt>\n",
       "\t\t<dd>2</dd>\n",
       "\t<dt>$neptune</dt>\n",
       "\t\t<dd>14</dd>\n",
       "</dl>\n"
      ],
      "text/latex": [
       "\\begin{description}\n",
       "\\item[\\$earth] 1\n",
       "\\item[\\$mars] 2\n",
       "\\item[\\$neptune] 14\n",
       "\\end{description}\n"
      ],
      "text/markdown": [
       "$earth\n",
       ":   1\n",
       "$mars\n",
       ":   2\n",
       "$neptune\n",
       ":   14\n",
       "\n",
       "\n"
      ],
      "text/plain": [
       "$earth\n",
       "[1] 1\n",
       "\n",
       "$mars\n",
       "[1] 2\n",
       "\n",
       "$neptune\n",
       "[1] 14\n"
      ]
     },
     "metadata": {},
     "output_type": "display_data"
    }
   ],
   "source": [
    "map(moons, length)"
   ]
  },
  {
   "cell_type": "code",
   "execution_count": 11,
   "id": "02f53923",
   "metadata": {},
   "outputs": [
    {
     "data": {
      "text/html": [
       "<dl>\n",
       "\t<dt>$earth</dt>\n",
       "\t\t<dd>1737.1</dd>\n",
       "\t<dt>$mars</dt>\n",
       "\t\t<dd>17.5</dd>\n",
       "\t<dt>$neptune</dt>\n",
       "\t\t<dd>4414.6</dd>\n",
       "</dl>\n"
      ],
      "text/latex": [
       "\\begin{description}\n",
       "\\item[\\$earth] 1737.1\n",
       "\\item[\\$mars] 17.5\n",
       "\\item[\\$neptune] 4414.6\n",
       "\\end{description}\n"
      ],
      "text/markdown": [
       "$earth\n",
       ":   1737.1\n",
       "$mars\n",
       ":   17.5\n",
       "$neptune\n",
       ":   4414.6\n",
       "\n",
       "\n"
      ],
      "text/plain": [
       "$earth\n",
       "[1] 1737.1\n",
       "\n",
       "$mars\n",
       "[1] 17.5\n",
       "\n",
       "$neptune\n",
       "[1] 4414.6\n"
      ]
     },
     "metadata": {},
     "output_type": "display_data"
    }
   ],
   "source": [
    "map(moons, sum)"
   ]
  },
  {
   "cell_type": "code",
   "execution_count": 12,
   "id": "14b6c725",
   "metadata": {},
   "outputs": [
    {
     "data": {
      "text/html": [
       "<style>\n",
       ".dl-inline {width: auto; margin:0; padding: 0}\n",
       ".dl-inline>dt, .dl-inline>dd {float: none; width: auto; display: inline-block}\n",
       ".dl-inline>dt::after {content: \":\\0020\"; padding-right: .5ex}\n",
       ".dl-inline>dt:not(:first-of-type) {padding-left: .5ex}\n",
       "</style><dl class=dl-inline><dt>earth</dt><dd>1</dd><dt>mars</dt><dd>2</dd><dt>neptune</dt><dd>14</dd></dl>\n"
      ],
      "text/latex": [
       "\\begin{description*}\n",
       "\\item[earth] 1\n",
       "\\item[mars] 2\n",
       "\\item[neptune] 14\n",
       "\\end{description*}\n"
      ],
      "text/markdown": [
       "earth\n",
       ":   1mars\n",
       ":   2neptune\n",
       ":   14\n",
       "\n"
      ],
      "text/plain": [
       "  earth    mars neptune \n",
       "      1       2      14 "
      ]
     },
     "metadata": {},
     "output_type": "display_data"
    }
   ],
   "source": [
    "map_int(moons, length)"
   ]
  },
  {
   "cell_type": "code",
   "execution_count": 14,
   "id": "fa1d87f6",
   "metadata": {},
   "outputs": [
    {
     "data": {
      "text/html": [
       "'integer'"
      ],
      "text/latex": [
       "'integer'"
      ],
      "text/markdown": [
       "'integer'"
      ],
      "text/plain": [
       "[1] \"integer\""
      ]
     },
     "metadata": {},
     "output_type": "display_data"
    }
   ],
   "source": [
    "typeof(map_int(moons, length))"
   ]
  },
  {
   "cell_type": "code",
   "execution_count": 15,
   "id": "d546131c",
   "metadata": {},
   "outputs": [
    {
     "data": {
      "text/html": [
       "<style>\n",
       ".dl-inline {width: auto; margin:0; padding: 0}\n",
       ".dl-inline>dt, .dl-inline>dd {float: none; width: auto; display: inline-block}\n",
       ".dl-inline>dt::after {content: \":\\0020\"; padding-right: .5ex}\n",
       ".dl-inline>dt:not(:first-of-type) {padding-left: .5ex}\n",
       "</style><dl class=dl-inline><dt>earth</dt><dd>1737.1</dd><dt>mars</dt><dd>8.75</dd><dt>neptune</dt><dd>71.7</dd></dl>\n"
      ],
      "text/latex": [
       "\\begin{description*}\n",
       "\\item[earth] 1737.1\n",
       "\\item[mars] 8.75\n",
       "\\item[neptune] 71.7\n",
       "\\end{description*}\n"
      ],
      "text/markdown": [
       "earth\n",
       ":   1737.1mars\n",
       ":   8.75neptune\n",
       ":   71.7\n",
       "\n"
      ],
      "text/plain": [
       "  earth    mars neptune \n",
       "1737.10    8.75   71.70 "
      ]
     },
     "metadata": {},
     "output_type": "display_data"
    }
   ],
   "source": [
    "map_dbl(moons, median)"
   ]
  },
  {
   "cell_type": "code",
   "execution_count": 17,
   "id": "c1331bac",
   "metadata": {},
   "outputs": [
    {
     "data": {
      "text/html": [
       "<dl>\n",
       "\t<dt>$earth</dt>\n",
       "\t\t<dd>1737.1</dd>\n",
       "\t<dt>$mars</dt>\n",
       "\t\t<dd><style>\n",
       ".list-inline {list-style: none; margin:0; padding: 0}\n",
       ".list-inline>li {display: inline-block}\n",
       ".list-inline>li:not(:last-child)::after {content: \"\\00b7\"; padding: 0 .5ex}\n",
       "</style>\n",
       "<ol class=list-inline><li>6.2</li><li>11.3</li></ol>\n",
       "</dd>\n",
       "\t<dt>$neptune</dt>\n",
       "\t\t<dd><style>\n",
       ".list-inline {list-style: none; margin:0; padding: 0}\n",
       ".list-inline>li {display: inline-block}\n",
       ".list-inline>li:not(:last-child)::after {content: \"\\00b7\"; padding: 0 .5ex}\n",
       "</style>\n",
       "<ol class=list-inline><li>34.8</li><li>40</li><li>42</li><li>44</li><li>60</li><li>60.4</li><li>62</li><li>81.4</li><li>156</li><li>174.8</li><li>194</li><li>340</li><li>420</li><li>2705.2</li></ol>\n",
       "</dd>\n",
       "</dl>\n"
      ],
      "text/latex": [
       "\\begin{description}\n",
       "\\item[\\$earth] 1737.1\n",
       "\\item[\\$mars] \\begin{enumerate*}\n",
       "\\item 6.2\n",
       "\\item 11.3\n",
       "\\end{enumerate*}\n",
       "\n",
       "\\item[\\$neptune] \\begin{enumerate*}\n",
       "\\item 34.8\n",
       "\\item 40\n",
       "\\item 42\n",
       "\\item 44\n",
       "\\item 60\n",
       "\\item 60.4\n",
       "\\item 62\n",
       "\\item 81.4\n",
       "\\item 156\n",
       "\\item 174.8\n",
       "\\item 194\n",
       "\\item 340\n",
       "\\item 420\n",
       "\\item 2705.2\n",
       "\\end{enumerate*}\n",
       "\n",
       "\\end{description}\n"
      ],
      "text/markdown": [
       "$earth\n",
       ":   1737.1\n",
       "$mars\n",
       ":   1. 6.2\n",
       "2. 11.3\n",
       "\n",
       "\n",
       "\n",
       "$neptune\n",
       ":   1. 34.8\n",
       "2. 40\n",
       "3. 42\n",
       "4. 44\n",
       "5. 60\n",
       "6. 60.4\n",
       "7. 62\n",
       "8. 81.4\n",
       "9. 156\n",
       "10. 174.8\n",
       "11. 194\n",
       "12. 340\n",
       "13. 420\n",
       "14. 2705.2\n",
       "\n",
       "\n",
       "\n",
       "\n",
       "\n"
      ],
      "text/plain": [
       "$earth\n",
       "[1] 1737.1\n",
       "\n",
       "$mars\n",
       "[1]  6.2 11.3\n",
       "\n",
       "$neptune\n",
       " [1]   34.8   40.0   42.0   44.0   60.0   60.4   62.0   81.4  156.0  174.8\n",
       "[11]  194.0  340.0  420.0 2705.2\n"
      ]
     },
     "metadata": {},
     "output_type": "display_data"
    }
   ],
   "source": [
    "map(moons, sort)"
   ]
  },
  {
   "cell_type": "code",
   "execution_count": 18,
   "id": "9ed70502",
   "metadata": {},
   "outputs": [
    {
     "data": {
      "text/html": [
       "<dl>\n",
       "\t<dt>$earth</dt>\n",
       "\t\t<dd>1737.1</dd>\n",
       "\t<dt>$mars</dt>\n",
       "\t\t<dd><style>\n",
       ".list-inline {list-style: none; margin:0; padding: 0}\n",
       ".list-inline>li {display: inline-block}\n",
       ".list-inline>li:not(:last-child)::after {content: \"\\00b7\"; padding: 0 .5ex}\n",
       "</style>\n",
       "<ol class=list-inline><li>11.3</li><li>6.2</li></ol>\n",
       "</dd>\n",
       "\t<dt>$neptune</dt>\n",
       "\t\t<dd><style>\n",
       ".list-inline {list-style: none; margin:0; padding: 0}\n",
       ".list-inline>li {display: inline-block}\n",
       ".list-inline>li:not(:last-child)::after {content: \"\\00b7\"; padding: 0 .5ex}\n",
       "</style>\n",
       "<ol class=list-inline><li>2705.2</li><li>420</li><li>340</li><li>194</li><li>174.8</li><li>156</li><li>81.4</li><li>62</li><li>60.4</li><li>60</li><li>44</li><li>42</li><li>40</li><li>34.8</li></ol>\n",
       "</dd>\n",
       "</dl>\n"
      ],
      "text/latex": [
       "\\begin{description}\n",
       "\\item[\\$earth] 1737.1\n",
       "\\item[\\$mars] \\begin{enumerate*}\n",
       "\\item 11.3\n",
       "\\item 6.2\n",
       "\\end{enumerate*}\n",
       "\n",
       "\\item[\\$neptune] \\begin{enumerate*}\n",
       "\\item 2705.2\n",
       "\\item 420\n",
       "\\item 340\n",
       "\\item 194\n",
       "\\item 174.8\n",
       "\\item 156\n",
       "\\item 81.4\n",
       "\\item 62\n",
       "\\item 60.4\n",
       "\\item 60\n",
       "\\item 44\n",
       "\\item 42\n",
       "\\item 40\n",
       "\\item 34.8\n",
       "\\end{enumerate*}\n",
       "\n",
       "\\end{description}\n"
      ],
      "text/markdown": [
       "$earth\n",
       ":   1737.1\n",
       "$mars\n",
       ":   1. 11.3\n",
       "2. 6.2\n",
       "\n",
       "\n",
       "\n",
       "$neptune\n",
       ":   1. 2705.2\n",
       "2. 420\n",
       "3. 340\n",
       "4. 194\n",
       "5. 174.8\n",
       "6. 156\n",
       "7. 81.4\n",
       "8. 62\n",
       "9. 60.4\n",
       "10. 60\n",
       "11. 44\n",
       "12. 42\n",
       "13. 40\n",
       "14. 34.8\n",
       "\n",
       "\n",
       "\n",
       "\n",
       "\n"
      ],
      "text/plain": [
       "$earth\n",
       "[1] 1737.1\n",
       "\n",
       "$mars\n",
       "[1] 11.3  6.2\n",
       "\n",
       "$neptune\n",
       " [1] 2705.2  420.0  340.0  194.0  174.8  156.0   81.4   62.0   60.4   60.0\n",
       "[11]   44.0   42.0   40.0   34.8\n"
      ]
     },
     "metadata": {},
     "output_type": "display_data"
    }
   ],
   "source": [
    "map(moons, sort, decreasing = TRUE)"
   ]
  },
  {
   "cell_type": "code",
   "execution_count": 19,
   "id": "3ff1c7ff",
   "metadata": {},
   "outputs": [],
   "source": [
    "km_to_miles <- function(x) {\n",
    "  x * 0.62\n",
    "}"
   ]
  },
  {
   "cell_type": "code",
   "execution_count": 21,
   "id": "ba8c6947",
   "metadata": {},
   "outputs": [],
   "source": [
    "a <- map(moons, km_to_miles)"
   ]
  },
  {
   "cell_type": "code",
   "execution_count": 22,
   "id": "7780ad58",
   "metadata": {},
   "outputs": [
    {
     "data": {
      "text/html": [
       "<dl>\n",
       "\t<dt>$earth</dt>\n",
       "\t\t<dd>1077.002</dd>\n",
       "\t<dt>$mars</dt>\n",
       "\t\t<dd><style>\n",
       ".list-inline {list-style: none; margin:0; padding: 0}\n",
       ".list-inline>li {display: inline-block}\n",
       ".list-inline>li:not(:last-child)::after {content: \"\\00b7\"; padding: 0 .5ex}\n",
       "</style>\n",
       "<ol class=list-inline><li>3.844</li><li>7.006</li></ol>\n",
       "</dd>\n",
       "\t<dt>$neptune</dt>\n",
       "\t\t<dd><style>\n",
       ".list-inline {list-style: none; margin:0; padding: 0}\n",
       ".list-inline>li {display: inline-block}\n",
       ".list-inline>li:not(:last-child)::after {content: \"\\00b7\"; padding: 0 .5ex}\n",
       "</style>\n",
       "<ol class=list-inline><li>21.576</li><li>24.8</li><li>26.04</li><li>27.28</li><li>37.2</li><li>37.448</li><li>38.44</li><li>50.468</li><li>96.72</li><li>108.376</li><li>120.28</li><li>210.8</li><li>260.4</li><li>1677.224</li></ol>\n",
       "</dd>\n",
       "</dl>\n"
      ],
      "text/latex": [
       "\\begin{description}\n",
       "\\item[\\$earth] 1077.002\n",
       "\\item[\\$mars] \\begin{enumerate*}\n",
       "\\item 3.844\n",
       "\\item 7.006\n",
       "\\end{enumerate*}\n",
       "\n",
       "\\item[\\$neptune] \\begin{enumerate*}\n",
       "\\item 21.576\n",
       "\\item 24.8\n",
       "\\item 26.04\n",
       "\\item 27.28\n",
       "\\item 37.2\n",
       "\\item 37.448\n",
       "\\item 38.44\n",
       "\\item 50.468\n",
       "\\item 96.72\n",
       "\\item 108.376\n",
       "\\item 120.28\n",
       "\\item 210.8\n",
       "\\item 260.4\n",
       "\\item 1677.224\n",
       "\\end{enumerate*}\n",
       "\n",
       "\\end{description}\n"
      ],
      "text/markdown": [
       "$earth\n",
       ":   1077.002\n",
       "$mars\n",
       ":   1. 3.844\n",
       "2. 7.006\n",
       "\n",
       "\n",
       "\n",
       "$neptune\n",
       ":   1. 21.576\n",
       "2. 24.8\n",
       "3. 26.04\n",
       "4. 27.28\n",
       "5. 37.2\n",
       "6. 37.448\n",
       "7. 38.44\n",
       "8. 50.468\n",
       "9. 96.72\n",
       "10. 108.376\n",
       "11. 120.28\n",
       "12. 210.8\n",
       "13. 260.4\n",
       "14. 1677.224\n",
       "\n",
       "\n",
       "\n",
       "\n",
       "\n"
      ],
      "text/plain": [
       "$earth\n",
       "[1] 1077.002\n",
       "\n",
       "$mars\n",
       "[1] 3.844 7.006\n",
       "\n",
       "$neptune\n",
       " [1]   21.576   24.800   26.040   27.280   37.200   37.448   38.440   50.468\n",
       " [9]   96.720  108.376  120.280  210.800  260.400 1677.224\n"
      ]
     },
     "metadata": {},
     "output_type": "display_data"
    }
   ],
   "source": [
    "map(a, sort)"
   ]
  },
  {
   "cell_type": "code",
   "execution_count": 23,
   "id": "b0b2f6c3",
   "metadata": {},
   "outputs": [
    {
     "data": {
      "text/html": [
       "<dl>\n",
       "\t<dt>$earth</dt>\n",
       "\t\t<dd>1077.002</dd>\n",
       "\t<dt>$mars</dt>\n",
       "\t\t<dd><style>\n",
       ".list-inline {list-style: none; margin:0; padding: 0}\n",
       ".list-inline>li {display: inline-block}\n",
       ".list-inline>li:not(:last-child)::after {content: \"\\00b7\"; padding: 0 .5ex}\n",
       "</style>\n",
       "<ol class=list-inline><li>7.006</li><li>3.844</li></ol>\n",
       "</dd>\n",
       "\t<dt>$neptune</dt>\n",
       "\t\t<dd><style>\n",
       ".list-inline {list-style: none; margin:0; padding: 0}\n",
       ".list-inline>li {display: inline-block}\n",
       ".list-inline>li:not(:last-child)::after {content: \"\\00b7\"; padding: 0 .5ex}\n",
       "</style>\n",
       "<ol class=list-inline><li>37.448</li><li>50.468</li><li>96.72</li><li>108.376</li><li>120.28</li><li>21.576</li><li>260.4</li><li>1677.224</li><li>210.8</li><li>38.44</li><li>27.28</li><li>26.04</li><li>24.8</li><li>37.2</li></ol>\n",
       "</dd>\n",
       "</dl>\n"
      ],
      "text/latex": [
       "\\begin{description}\n",
       "\\item[\\$earth] 1077.002\n",
       "\\item[\\$mars] \\begin{enumerate*}\n",
       "\\item 7.006\n",
       "\\item 3.844\n",
       "\\end{enumerate*}\n",
       "\n",
       "\\item[\\$neptune] \\begin{enumerate*}\n",
       "\\item 37.448\n",
       "\\item 50.468\n",
       "\\item 96.72\n",
       "\\item 108.376\n",
       "\\item 120.28\n",
       "\\item 21.576\n",
       "\\item 260.4\n",
       "\\item 1677.224\n",
       "\\item 210.8\n",
       "\\item 38.44\n",
       "\\item 27.28\n",
       "\\item 26.04\n",
       "\\item 24.8\n",
       "\\item 37.2\n",
       "\\end{enumerate*}\n",
       "\n",
       "\\end{description}\n"
      ],
      "text/markdown": [
       "$earth\n",
       ":   1077.002\n",
       "$mars\n",
       ":   1. 7.006\n",
       "2. 3.844\n",
       "\n",
       "\n",
       "\n",
       "$neptune\n",
       ":   1. 37.448\n",
       "2. 50.468\n",
       "3. 96.72\n",
       "4. 108.376\n",
       "5. 120.28\n",
       "6. 21.576\n",
       "7. 260.4\n",
       "8. 1677.224\n",
       "9. 210.8\n",
       "10. 38.44\n",
       "11. 27.28\n",
       "12. 26.04\n",
       "13. 24.8\n",
       "14. 37.2\n",
       "\n",
       "\n",
       "\n",
       "\n",
       "\n"
      ],
      "text/plain": [
       "$earth\n",
       "[1] 1077.002\n",
       "\n",
       "$mars\n",
       "[1] 7.006 3.844\n",
       "\n",
       "$neptune\n",
       " [1]   37.448   50.468   96.720  108.376  120.280   21.576  260.400 1677.224\n",
       " [9]  210.800   38.440   27.280   26.040   24.800   37.200\n"
      ]
     },
     "metadata": {},
     "output_type": "display_data"
    }
   ],
   "source": [
    "map(moons, function(x) x*0.62)"
   ]
  },
  {
   "cell_type": "code",
   "execution_count": 25,
   "id": "69bdd197",
   "metadata": {},
   "outputs": [
    {
     "data": {
      "text/html": [
       "<dl>\n",
       "\t<dt>$earth</dt>\n",
       "\t\t<dd>1077.002</dd>\n",
       "\t<dt>$mars</dt>\n",
       "\t\t<dd><style>\n",
       ".list-inline {list-style: none; margin:0; padding: 0}\n",
       ".list-inline>li {display: inline-block}\n",
       ".list-inline>li:not(:last-child)::after {content: \"\\00b7\"; padding: 0 .5ex}\n",
       "</style>\n",
       "<ol class=list-inline><li>7.006</li><li>3.844</li></ol>\n",
       "</dd>\n",
       "\t<dt>$neptune</dt>\n",
       "\t\t<dd><style>\n",
       ".list-inline {list-style: none; margin:0; padding: 0}\n",
       ".list-inline>li {display: inline-block}\n",
       ".list-inline>li:not(:last-child)::after {content: \"\\00b7\"; padding: 0 .5ex}\n",
       "</style>\n",
       "<ol class=list-inline><li>37.448</li><li>50.468</li><li>96.72</li><li>108.376</li><li>120.28</li><li>21.576</li><li>260.4</li><li>1677.224</li><li>210.8</li><li>38.44</li><li>27.28</li><li>26.04</li><li>24.8</li><li>37.2</li></ol>\n",
       "</dd>\n",
       "</dl>\n"
      ],
      "text/latex": [
       "\\begin{description}\n",
       "\\item[\\$earth] 1077.002\n",
       "\\item[\\$mars] \\begin{enumerate*}\n",
       "\\item 7.006\n",
       "\\item 3.844\n",
       "\\end{enumerate*}\n",
       "\n",
       "\\item[\\$neptune] \\begin{enumerate*}\n",
       "\\item 37.448\n",
       "\\item 50.468\n",
       "\\item 96.72\n",
       "\\item 108.376\n",
       "\\item 120.28\n",
       "\\item 21.576\n",
       "\\item 260.4\n",
       "\\item 1677.224\n",
       "\\item 210.8\n",
       "\\item 38.44\n",
       "\\item 27.28\n",
       "\\item 26.04\n",
       "\\item 24.8\n",
       "\\item 37.2\n",
       "\\end{enumerate*}\n",
       "\n",
       "\\end{description}\n"
      ],
      "text/markdown": [
       "$earth\n",
       ":   1077.002\n",
       "$mars\n",
       ":   1. 7.006\n",
       "2. 3.844\n",
       "\n",
       "\n",
       "\n",
       "$neptune\n",
       ":   1. 37.448\n",
       "2. 50.468\n",
       "3. 96.72\n",
       "4. 108.376\n",
       "5. 120.28\n",
       "6. 21.576\n",
       "7. 260.4\n",
       "8. 1677.224\n",
       "9. 210.8\n",
       "10. 38.44\n",
       "11. 27.28\n",
       "12. 26.04\n",
       "13. 24.8\n",
       "14. 37.2\n",
       "\n",
       "\n",
       "\n",
       "\n",
       "\n"
      ],
      "text/plain": [
       "$earth\n",
       "[1] 1077.002\n",
       "\n",
       "$mars\n",
       "[1] 7.006 3.844\n",
       "\n",
       "$neptune\n",
       " [1]   37.448   50.468   96.720  108.376  120.280   21.576  260.400 1677.224\n",
       " [9]  210.800   38.440   27.280   26.040   24.800   37.200\n"
      ]
     },
     "metadata": {},
     "output_type": "display_data"
    }
   ],
   "source": [
    "moons %>%\n",
    "    map(~ .*0.62)"
   ]
  },
  {
   "cell_type": "code",
   "execution_count": 28,
   "id": "21fcfed7",
   "metadata": {},
   "outputs": [
    {
     "data": {
      "text/html": [
       "<style>\n",
       ".list-inline {list-style: none; margin:0; padding: 0}\n",
       ".list-inline>li {display: inline-block}\n",
       ".list-inline>li:not(:last-child)::after {content: \"\\00b7\"; padding: 0 .5ex}\n",
       "</style>\n",
       "<ol class=list-inline><li>1</li><li>4</li><li>9</li><li>16</li><li>25</li></ol>\n"
      ],
      "text/latex": [
       "\\begin{enumerate*}\n",
       "\\item 1\n",
       "\\item 4\n",
       "\\item 9\n",
       "\\item 16\n",
       "\\item 25\n",
       "\\end{enumerate*}\n"
      ],
      "text/markdown": [
       "1. 1\n",
       "2. 4\n",
       "3. 9\n",
       "4. 16\n",
       "5. 25\n",
       "\n",
       "\n"
      ],
      "text/plain": [
       "[1]  1  4  9 16 25"
      ]
     },
     "metadata": {},
     "output_type": "display_data"
    }
   ],
   "source": [
    "1:5 %>%\n",
    "    map_dbl(~ .**2)"
   ]
  },
  {
   "cell_type": "code",
   "execution_count": 29,
   "id": "88815851",
   "metadata": {},
   "outputs": [],
   "source": [
    "y <- \n",
    "    tibble(\n",
    "        col_1 = c(1, 2, 3),\n",
    "        col_2 = c(10, 20, 30), \n",
    "        col_3 = c(0.1, 0.2, 0.3)\n",
    "    )"
   ]
  },
  {
   "cell_type": "code",
   "execution_count": 30,
   "id": "1b8a350e",
   "metadata": {},
   "outputs": [
    {
     "data": {
      "text/html": [
       "<table class=\"dataframe\">\n",
       "<caption>A tibble: 3 × 3</caption>\n",
       "<thead>\n",
       "\t<tr><th scope=col>col_1</th><th scope=col>col_2</th><th scope=col>col_3</th></tr>\n",
       "\t<tr><th scope=col>&lt;dbl&gt;</th><th scope=col>&lt;dbl&gt;</th><th scope=col>&lt;dbl&gt;</th></tr>\n",
       "</thead>\n",
       "<tbody>\n",
       "\t<tr><td>1</td><td>10</td><td>0.1</td></tr>\n",
       "\t<tr><td>2</td><td>20</td><td>0.2</td></tr>\n",
       "\t<tr><td>3</td><td>30</td><td>0.3</td></tr>\n",
       "</tbody>\n",
       "</table>\n"
      ],
      "text/latex": [
       "A tibble: 3 × 3\n",
       "\\begin{tabular}{lll}\n",
       " col\\_1 & col\\_2 & col\\_3\\\\\n",
       " <dbl> & <dbl> & <dbl>\\\\\n",
       "\\hline\n",
       "\t 1 & 10 & 0.1\\\\\n",
       "\t 2 & 20 & 0.2\\\\\n",
       "\t 3 & 30 & 0.3\\\\\n",
       "\\end{tabular}\n"
      ],
      "text/markdown": [
       "\n",
       "A tibble: 3 × 3\n",
       "\n",
       "| col_1 &lt;dbl&gt; | col_2 &lt;dbl&gt; | col_3 &lt;dbl&gt; |\n",
       "|---|---|---|\n",
       "| 1 | 10 | 0.1 |\n",
       "| 2 | 20 | 0.2 |\n",
       "| 3 | 30 | 0.3 |\n",
       "\n"
      ],
      "text/plain": [
       "  col_1 col_2 col_3\n",
       "1 1     10    0.1  \n",
       "2 2     20    0.2  \n",
       "3 3     30    0.3  "
      ]
     },
     "metadata": {},
     "output_type": "display_data"
    }
   ],
   "source": [
    "y"
   ]
  },
  {
   "cell_type": "code",
   "execution_count": 33,
   "id": "d24b2826",
   "metadata": {},
   "outputs": [
    {
     "data": {
      "text/html": [
       "<style>\n",
       ".dl-inline {width: auto; margin:0; padding: 0}\n",
       ".dl-inline>dt, .dl-inline>dd {float: none; width: auto; display: inline-block}\n",
       ".dl-inline>dt::after {content: \":\\0020\"; padding-right: .5ex}\n",
       ".dl-inline>dt:not(:first-of-type) {padding-left: .5ex}\n",
       "</style><dl class=dl-inline><dt>col_1</dt><dd>2</dd><dt>col_2</dt><dd>20</dd><dt>col_3</dt><dd>0.2</dd></dl>\n"
      ],
      "text/latex": [
       "\\begin{description*}\n",
       "\\item[col\\textbackslash{}\\_1] 2\n",
       "\\item[col\\textbackslash{}\\_2] 20\n",
       "\\item[col\\textbackslash{}\\_3] 0.2\n",
       "\\end{description*}\n"
      ],
      "text/markdown": [
       "col_1\n",
       ":   2col_2\n",
       ":   20col_3\n",
       ":   0.2\n",
       "\n"
      ],
      "text/plain": [
       "col_1 col_2 col_3 \n",
       "  2.0  20.0   0.2 "
      ]
     },
     "metadata": {},
     "output_type": "display_data"
    }
   ],
   "source": [
    "map_dbl(y, median)"
   ]
  },
  {
   "cell_type": "code",
   "execution_count": 34,
   "id": "2933c322",
   "metadata": {},
   "outputs": [
    {
     "data": {
      "text/html": [
       "<style>\n",
       ".dl-inline {width: auto; margin:0; padding: 0}\n",
       ".dl-inline>dt, .dl-inline>dd {float: none; width: auto; display: inline-block}\n",
       ".dl-inline>dt::after {content: \":\\0020\"; padding-right: .5ex}\n",
       ".dl-inline>dt:not(:first-of-type) {padding-left: .5ex}\n",
       "</style><dl class=dl-inline><dt>col_1</dt><dd>6</dd><dt>col_2</dt><dd>60</dd><dt>col_3</dt><dd>0.6</dd></dl>\n"
      ],
      "text/latex": [
       "\\begin{description*}\n",
       "\\item[col\\textbackslash{}\\_1] 6\n",
       "\\item[col\\textbackslash{}\\_2] 60\n",
       "\\item[col\\textbackslash{}\\_3] 0.6\n",
       "\\end{description*}\n"
      ],
      "text/markdown": [
       "col_1\n",
       ":   6col_2\n",
       ":   60col_3\n",
       ":   0.6\n",
       "\n"
      ],
      "text/plain": [
       "col_1 col_2 col_3 \n",
       "  6.0  60.0   0.6 "
      ]
     },
     "metadata": {},
     "output_type": "display_data"
    }
   ],
   "source": [
    "map_dbl(y, sum)"
   ]
  },
  {
   "cell_type": "code",
   "execution_count": 36,
   "id": "b163f19d",
   "metadata": {},
   "outputs": [],
   "source": [
    "a <- 1:4 %>%\n",
    "    map(~ rnorm(50, ., .))"
   ]
  },
  {
   "cell_type": "code",
   "execution_count": 37,
   "id": "1a6dd576",
   "metadata": {},
   "outputs": [
    {
     "data": {
      "text/html": [
       "'list'"
      ],
      "text/latex": [
       "'list'"
      ],
      "text/markdown": [
       "'list'"
      ],
      "text/plain": [
       "[1] \"list\""
      ]
     },
     "metadata": {},
     "output_type": "display_data"
    }
   ],
   "source": [
    "typeof(a)"
   ]
  },
  {
   "cell_type": "code",
   "execution_count": null,
   "id": "2f0348fa",
   "metadata": {},
   "outputs": [],
   "source": []
  }
 ],
 "metadata": {
  "kernelspec": {
   "display_name": "R",
   "language": "R",
   "name": "ir"
  },
  "language_info": {
   "codemirror_mode": "r",
   "file_extension": ".r",
   "mimetype": "text/x-r-source",
   "name": "R",
   "pygments_lexer": "r",
   "version": "4.0.5"
  }
 },
 "nbformat": 4,
 "nbformat_minor": 5
}
